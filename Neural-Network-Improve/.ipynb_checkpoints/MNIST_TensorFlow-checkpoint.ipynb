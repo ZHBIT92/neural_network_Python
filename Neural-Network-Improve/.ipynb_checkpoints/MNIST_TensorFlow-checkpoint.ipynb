{
 "cells": [
  {
   "cell_type": "code",
   "execution_count": 1,
   "metadata": {
    "collapsed": true
   },
   "outputs": [],
   "source": [
    "#导入要用到的库\n",
    "import tensorflow as tf\n",
    "from tensorflow.examples.tutorials.mnist import input_data"
   ]
  },
  {
   "cell_type": "code",
   "execution_count": 2,
   "metadata": {},
   "outputs": [
    {
     "name": "stdout",
     "output_type": "stream",
     "text": [
      "Extracting MNIST_data/train-images-idx3-ubyte.gz\n",
      "Extracting MNIST_data/train-labels-idx1-ubyte.gz\n",
      "Extracting MNIST_data/t10k-images-idx3-ubyte.gz\n",
      "Extracting MNIST_data/t10k-labels-idx1-ubyte.gz\n",
      "0.9211\n"
     ]
    }
   ],
   "source": [
    "mnist = input_data.read_data_sets(\"MNIST_data/\", one_hot = True) #导入数据集\n",
    "\n",
    "#初始化参数\n",
    "W = tf.Variable(tf.zeros([mnist.train.images.shape[1],10])) # W初始化为0\n",
    "b = tf.Variable(tf.zeros([10])) # b初始化为0\n",
    "costs = []\n",
    "\n",
    "#建立模型\n",
    "x = tf.placeholder(tf.float32, [None, mnist.train.images.shape[1]])\n",
    "y = tf.placeholder(tf.float32, [None, 10]) # 建立训练集占位符\n",
    "\n",
    "y_hat = tf.nn.softmax(tf.matmul(x,W) + b) # softmax激活\n",
    "cost = tf.reduce_mean(-tf.reduce_sum(y * tf.log(y_hat), reduction_indices=[1])) # 成本函数\n",
    "train_step = tf.train.GradientDescentOptimizer(0.5).minimize(cost) # 梯度下降，最小化成本\n",
    "\n",
    "sess = tf.InteractiveSession() # 创建session\n",
    "tf.global_variables_initializer().run() # 初始化变量（声明了变量，就必须初始化才能用）\n",
    "\n",
    "# 迭代运算\n",
    "for epoch in range(1000):\n",
    "    batch_xs, batch_ys = mnist.train.next_batch(100) #  每次使用100个小批量数据\n",
    "    sess.run([train_step, cost], feed_dict = {x: batch_xs, y: batch_ys}) #进行训练\n",
    "\n",
    "# 计算准确率\n",
    "correct_prediction = tf.equal(tf.argmax(y_hat,1), tf.argmax(y,1))\n",
    "accuracy = tf.reduce_mean(tf.cast(correct_prediction, tf.float32))\n",
    "print(sess.run(accuracy, feed_dict={x: mnist.test.images, y: mnist.test.labels}))"
   ]
  },
  {
   "cell_type": "code",
   "execution_count": null,
   "metadata": {
    "collapsed": true
   },
   "outputs": [],
   "source": []
  }
 ],
 "metadata": {
  "coursera": {
   "course_slug": "deep-neural-network",
   "graded_item_id": "BFd89",
   "launcher_item_id": "AH2rK"
  },
  "kernelspec": {
   "display_name": "Python 3",
   "language": "python",
   "name": "python3"
  },
  "language_info": {
   "codemirror_mode": {
    "name": "ipython",
    "version": 3
   },
   "file_extension": ".py",
   "mimetype": "text/x-python",
   "name": "python",
   "nbconvert_exporter": "python",
   "pygments_lexer": "ipython3",
   "version": "3.6.2"
  }
 },
 "nbformat": 4,
 "nbformat_minor": 1
}
